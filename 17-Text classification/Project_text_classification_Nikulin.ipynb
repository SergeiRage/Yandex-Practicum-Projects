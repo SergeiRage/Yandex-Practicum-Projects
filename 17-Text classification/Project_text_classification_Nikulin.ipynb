{
 "cells": [
  {
   "cell_type": "markdown",
   "metadata": {
    "toc": true
   },
   "source": [
    "<h1>Содержание<span class=\"tocSkip\"></span></h1>\n",
    "<div class=\"toc\"><ul class=\"toc-item\"><li><span><a href=\"#Подготовка\" data-toc-modified-id=\"Подготовка-1\"><span class=\"toc-item-num\">1&nbsp;&nbsp;</span>Подготовка</a></span></li><li><span><a href=\"#Обучение\" data-toc-modified-id=\"Обучение-2\"><span class=\"toc-item-num\">2&nbsp;&nbsp;</span>Обучение</a></span><ul class=\"toc-item\"><li><span><a href=\"#Модель-логистической-регрессии\" data-toc-modified-id=\"Модель-логистической-регрессии-2.1\"><span class=\"toc-item-num\">2.1&nbsp;&nbsp;</span>Модель логистической регрессии</a></span></li><li><span><a href=\"#Модель-случайного-леса\" data-toc-modified-id=\"Модель-случайного-леса-2.2\"><span class=\"toc-item-num\">2.2&nbsp;&nbsp;</span>Модель случайного леса</a></span></li><li><span><a href=\"#Модель-градиентного-бустинга-LightGBM\" data-toc-modified-id=\"Модель-градиентного-бустинга-LightGBM-2.3\"><span class=\"toc-item-num\">2.3&nbsp;&nbsp;</span>Модель градиентного бустинга LightGBM</a></span></li><li><span><a href=\"#Модель-CatBoost\" data-toc-modified-id=\"Модель-CatBoost-2.4\"><span class=\"toc-item-num\">2.4&nbsp;&nbsp;</span>Модель CatBoost</a></span></li><li><span><a href=\"#Проверим-лучшую-модель-в-работе\" data-toc-modified-id=\"Проверим-лучшую-модель-в-работе-2.5\"><span class=\"toc-item-num\">2.5&nbsp;&nbsp;</span>Проверим лучшую модель в работе</a></span></li></ul></li><li><span><a href=\"#Выводы\" data-toc-modified-id=\"Выводы-3\"><span class=\"toc-item-num\">3&nbsp;&nbsp;</span>Выводы</a></span></li><li><span><a href=\"#Чек-лист-проверки\" data-toc-modified-id=\"Чек-лист-проверки-4\"><span class=\"toc-item-num\">4&nbsp;&nbsp;</span>Чек-лист проверки</a></span></li></ul></div>"
   ]
  },
  {
   "cell_type": "markdown",
   "metadata": {},
   "source": [
    "# Проект для «Викишоп»"
   ]
  },
  {
   "cell_type": "markdown",
   "metadata": {},
   "source": [
    "Интернет-магазин «Викишоп» запускает новый сервис. Теперь пользователи могут редактировать и дополнять описания товаров, как в вики-сообществах. То есть клиенты предлагают свои правки и комментируют изменения других. Магазину нужен инструмент, который будет искать токсичные комментарии и отправлять их на модерацию. \n",
    "\n",
    "**Цель проекта**\n",
    "\n",
    "Обучить модель и классифицировать комментарии на позитивные и негативные. В нашем распоряжении набор данных с разметкой о токсичности правок.\n",
    "\n",
    "**Задачи проекта**\n",
    "\n",
    "Построить модель со значением метрики качества F1 не меньше 0.75.\n",
    "\n",
    "\n",
    "\n",
    "**Инструкция по выполнению проекта**\n",
    "\n",
    "1. Загрузите и подготовьте данные.\n",
    "2. Обучите разные модели. \n",
    "3. Сделайте выводы.\n",
    "\n",
    "Для выполнения проекта применять *BERT* необязательно, но вы можете попробовать.\n",
    "\n",
    "**Описание данных**\n",
    "\n",
    "Данные находятся в файле `toxic_comments.csv`. Столбец *text* в нём содержит текст комментария, а *toxic* — целевой признак."
   ]
  },
  {
   "cell_type": "markdown",
   "metadata": {},
   "source": [
    "## Подготовка"
   ]
  },
  {
   "cell_type": "code",
   "execution_count": 1,
   "metadata": {},
   "outputs": [
    {
     "name": "stderr",
     "output_type": "stream",
     "text": [
      "[nltk_data] Downloading package stopwords to /home/jovyan/nltk_data...\n",
      "[nltk_data]   Package stopwords is already up-to-date!\n",
      "[nltk_data] Downloading package wordnet to /home/jovyan/nltk_data...\n",
      "[nltk_data]   Package wordnet is already up-to-date!\n"
     ]
    }
   ],
   "source": [
    "import nltk\n",
    "import numpy as np\n",
    "import pandas as pd\n",
    "import lightgbm as lgb\n",
    "import matplotlib.pyplot as plt\n",
    "import re\n",
    "import spacy\n",
    "import tqdm\n",
    "import warnings\n",
    "from pymystem3 import Mystem\n",
    "m = Mystem() \n",
    "import re\n",
    "\n",
    "from catboost import CatBoostClassifier\n",
    "from sklearn.ensemble import RandomForestClassifier\n",
    "from sklearn.feature_extraction.text import TfidfVectorizer\n",
    "from sklearn.linear_model import LogisticRegression\n",
    "from sklearn.metrics import f1_score\n",
    "from sklearn.model_selection import train_test_split, GridSearchCV\n",
    "from tqdm.notebook import tqdm\n",
    "from sklearn.impute import SimpleImputer\n",
    "from sklearn.metrics import confusion_matrix, ConfusionMatrixDisplay\n",
    "from sklearn.metrics import classification_report\n",
    "from sklearn.pipeline import make_pipeline\n",
    "from nltk.corpus import stopwords as nltk_stopwords\n",
    "from nltk.tokenize import word_tokenize\n",
    "from nltk.stem import WordNetLemmatizer\n",
    "nltk.download('stopwords')\n",
    "nltk.download('wordnet')\n",
    "from nltk.corpus import wordnet\n",
    "lemmatizer = WordNetLemmatizer()\n",
    "\n",
    "RANDOM_STATE = 42\n",
    "\n",
    "warnings.filterwarnings(\"ignore\")"
   ]
  },
  {
   "cell_type": "code",
   "execution_count": 2,
   "metadata": {},
   "outputs": [],
   "source": [
    "try:\n",
    "    data = pd.read_csv('toxic_comments.csv', index_col='Unnamed: 0')\n",
    "except:\n",
    "    data = pd.read_csv('/datasets/toxic_comments.csv', index_col='Unnamed: 0')"
   ]
  },
  {
   "cell_type": "markdown",
   "metadata": {},
   "source": [
    "Посмотрим данные."
   ]
  },
  {
   "cell_type": "code",
   "execution_count": 3,
   "metadata": {},
   "outputs": [
    {
     "name": "stdout",
     "output_type": "stream",
     "text": [
      "<class 'pandas.core.frame.DataFrame'>\n",
      "Int64Index: 159292 entries, 0 to 159450\n",
      "Data columns (total 2 columns):\n",
      " #   Column  Non-Null Count   Dtype \n",
      "---  ------  --------------   ----- \n",
      " 0   text    159292 non-null  object\n",
      " 1   toxic   159292 non-null  int64 \n",
      "dtypes: int64(1), object(1)\n",
      "memory usage: 3.6+ MB\n"
     ]
    }
   ],
   "source": [
    "data.info()"
   ]
  },
  {
   "cell_type": "code",
   "execution_count": 4,
   "metadata": {},
   "outputs": [
    {
     "data": {
      "text/html": [
       "<div>\n",
       "<style scoped>\n",
       "    .dataframe tbody tr th:only-of-type {\n",
       "        vertical-align: middle;\n",
       "    }\n",
       "\n",
       "    .dataframe tbody tr th {\n",
       "        vertical-align: top;\n",
       "    }\n",
       "\n",
       "    .dataframe thead th {\n",
       "        text-align: right;\n",
       "    }\n",
       "</style>\n",
       "<table border=\"1\" class=\"dataframe\">\n",
       "  <thead>\n",
       "    <tr style=\"text-align: right;\">\n",
       "      <th></th>\n",
       "      <th>text</th>\n",
       "      <th>toxic</th>\n",
       "    </tr>\n",
       "  </thead>\n",
       "  <tbody>\n",
       "    <tr>\n",
       "      <th>0</th>\n",
       "      <td>Explanation\\nWhy the edits made under my usern...</td>\n",
       "      <td>0</td>\n",
       "    </tr>\n",
       "    <tr>\n",
       "      <th>1</th>\n",
       "      <td>D'aww! He matches this background colour I'm s...</td>\n",
       "      <td>0</td>\n",
       "    </tr>\n",
       "    <tr>\n",
       "      <th>2</th>\n",
       "      <td>Hey man, I'm really not trying to edit war. It...</td>\n",
       "      <td>0</td>\n",
       "    </tr>\n",
       "  </tbody>\n",
       "</table>\n",
       "</div>"
      ],
      "text/plain": [
       "                                                text  toxic\n",
       "0  Explanation\\nWhy the edits made under my usern...      0\n",
       "1  D'aww! He matches this background colour I'm s...      0\n",
       "2  Hey man, I'm really not trying to edit war. It...      0"
      ]
     },
     "execution_count": 4,
     "metadata": {},
     "output_type": "execute_result"
    }
   ],
   "source": [
    "data.head(3)"
   ]
  },
  {
   "cell_type": "code",
   "execution_count": 5,
   "metadata": {},
   "outputs": [
    {
     "data": {
      "text/html": [
       "<div>\n",
       "<style scoped>\n",
       "    .dataframe tbody tr th:only-of-type {\n",
       "        vertical-align: middle;\n",
       "    }\n",
       "\n",
       "    .dataframe tbody tr th {\n",
       "        vertical-align: top;\n",
       "    }\n",
       "\n",
       "    .dataframe thead th {\n",
       "        text-align: right;\n",
       "    }\n",
       "</style>\n",
       "<table border=\"1\" class=\"dataframe\">\n",
       "  <thead>\n",
       "    <tr style=\"text-align: right;\">\n",
       "      <th></th>\n",
       "      <th>toxic</th>\n",
       "    </tr>\n",
       "  </thead>\n",
       "  <tbody>\n",
       "    <tr>\n",
       "      <th>count</th>\n",
       "      <td>159292.000000</td>\n",
       "    </tr>\n",
       "    <tr>\n",
       "      <th>mean</th>\n",
       "      <td>0.101612</td>\n",
       "    </tr>\n",
       "    <tr>\n",
       "      <th>std</th>\n",
       "      <td>0.302139</td>\n",
       "    </tr>\n",
       "    <tr>\n",
       "      <th>min</th>\n",
       "      <td>0.000000</td>\n",
       "    </tr>\n",
       "    <tr>\n",
       "      <th>25%</th>\n",
       "      <td>0.000000</td>\n",
       "    </tr>\n",
       "    <tr>\n",
       "      <th>50%</th>\n",
       "      <td>0.000000</td>\n",
       "    </tr>\n",
       "    <tr>\n",
       "      <th>75%</th>\n",
       "      <td>0.000000</td>\n",
       "    </tr>\n",
       "    <tr>\n",
       "      <th>max</th>\n",
       "      <td>1.000000</td>\n",
       "    </tr>\n",
       "  </tbody>\n",
       "</table>\n",
       "</div>"
      ],
      "text/plain": [
       "               toxic\n",
       "count  159292.000000\n",
       "mean        0.101612\n",
       "std         0.302139\n",
       "min         0.000000\n",
       "25%         0.000000\n",
       "50%         0.000000\n",
       "75%         0.000000\n",
       "max         1.000000"
      ]
     },
     "execution_count": 5,
     "metadata": {},
     "output_type": "execute_result"
    }
   ],
   "source": [
    "data.describe()"
   ]
  },
  {
   "cell_type": "code",
   "execution_count": 6,
   "metadata": {},
   "outputs": [
    {
     "data": {
      "text/plain": [
       "text     0\n",
       "toxic    0\n",
       "dtype: int64"
      ]
     },
     "execution_count": 6,
     "metadata": {},
     "output_type": "execute_result"
    }
   ],
   "source": [
    "data.isna().sum()"
   ]
  },
  {
   "cell_type": "code",
   "execution_count": 7,
   "metadata": {
    "scrolled": true
   },
   "outputs": [
    {
     "data": {
      "text/plain": [
       "0"
      ]
     },
     "execution_count": 7,
     "metadata": {},
     "output_type": "execute_result"
    }
   ],
   "source": [
    "data.duplicated().sum() "
   ]
  },
  {
   "cell_type": "code",
   "execution_count": 8,
   "metadata": {},
   "outputs": [
    {
     "data": {
      "text/plain": [
       "<AxesSubplot:>"
      ]
     },
     "execution_count": 8,
     "metadata": {},
     "output_type": "execute_result"
    },
    {
     "data": {
      "image/png": "[encoded data removed]",
      "text/plain": [
       "<Figure size 432x288 with 1 Axes>"
      ]
     },
     "metadata": {
      "needs_background": "light"
     },
     "output_type": "display_data"
    }
   ],
   "source": [
    "data['toxic'].value_counts().plot(kind='bar')"
   ]
  },
  {
   "cell_type": "markdown",
   "metadata": {},
   "source": [
    "Данные содержат около 160 тысяч записей. Пропуски и дубликаты в данных отсутсвуют. Наблюдается дисбаланс классов целевого признака."
   ]
  },
  {
   "cell_type": "markdown",
   "metadata": {},
   "source": [
    "Как дополнительные материалы, рекомендую статью <a href='https://dyakonov.org/2021/05/27/imbalance/'>Дисбаланс классов</a>, очень классная, как и весь блог Дьяконова. Ещё такой <a href='https://github.com/Dyakonov/ml_hacks/blob/master/book_disbalance_public_v1.ipynb'>ноутбук</a> есть.</font>"
   ]
  },
  {
   "cell_type": "markdown",
   "metadata": {},
   "source": [
    "Функция очистки и нормализации текста."
   ]
  },
  {
   "cell_type": "code",
   "execution_count": 9,
   "metadata": {},
   "outputs": [
    {
     "name": "stdout",
     "output_type": "stream",
     "text": [
      "Compiling text_normalizer - OK\n"
     ]
    }
   ],
   "source": [
    "def text_normalizer(text):\n",
    "    \"\"\"\n",
    "    normalizes given text according to the template\n",
    "    parameters:\n",
    "    - text - text to normalize\n",
    "    \n",
    "    returns: normalized text\n",
    "    \"\"\"        \n",
    "    return \" \".join(re.sub(r\"[^a-zA-Z']\", \" \", text).split()).lower()\n",
    "\n",
    "print('Compiling text_normalizer - OK')"
   ]
  },
  {
   "cell_type": "code",
   "execution_count": 10,
   "metadata": {},
   "outputs": [
    {
     "data": {
      "text/html": [
       "<div>\n",
       "<style scoped>\n",
       "    .dataframe tbody tr th:only-of-type {\n",
       "        vertical-align: middle;\n",
       "    }\n",
       "\n",
       "    .dataframe tbody tr th {\n",
       "        vertical-align: top;\n",
       "    }\n",
       "\n",
       "    .dataframe thead th {\n",
       "        text-align: right;\n",
       "    }\n",
       "</style>\n",
       "<table border=\"1\" class=\"dataframe\">\n",
       "  <thead>\n",
       "    <tr style=\"text-align: right;\">\n",
       "      <th></th>\n",
       "      <th>text</th>\n",
       "      <th>toxic</th>\n",
       "    </tr>\n",
       "  </thead>\n",
       "  <tbody>\n",
       "    <tr>\n",
       "      <th>0</th>\n",
       "      <td>explanation why the edits made under my userna...</td>\n",
       "      <td>0</td>\n",
       "    </tr>\n",
       "    <tr>\n",
       "      <th>1</th>\n",
       "      <td>d'aww he matches this background colour i'm se...</td>\n",
       "      <td>0</td>\n",
       "    </tr>\n",
       "    <tr>\n",
       "      <th>2</th>\n",
       "      <td>hey man i'm really not trying to edit war it's...</td>\n",
       "      <td>0</td>\n",
       "    </tr>\n",
       "    <tr>\n",
       "      <th>3</th>\n",
       "      <td>more i can't make any real suggestions on impr...</td>\n",
       "      <td>0</td>\n",
       "    </tr>\n",
       "    <tr>\n",
       "      <th>4</th>\n",
       "      <td>you sir are my hero any chance you remember wh...</td>\n",
       "      <td>0</td>\n",
       "    </tr>\n",
       "  </tbody>\n",
       "</table>\n",
       "</div>"
      ],
      "text/plain": [
       "                                                text  toxic\n",
       "0  explanation why the edits made under my userna...      0\n",
       "1  d'aww he matches this background colour i'm se...      0\n",
       "2  hey man i'm really not trying to edit war it's...      0\n",
       "3  more i can't make any real suggestions on impr...      0\n",
       "4  you sir are my hero any chance you remember wh...      0"
      ]
     },
     "execution_count": 10,
     "metadata": {},
     "output_type": "execute_result"
    }
   ],
   "source": [
    "# normalizing texts\n",
    "normalized_texts = []\n",
    "\n",
    "for row in range(data.shape[0]):\n",
    "    normalized_texts.append(text_normalizer(data.iloc[row]['text']))\n",
    "    \n",
    "data['text'] = normalized_texts\n",
    "\n",
    "data.head(5)"
   ]
  },
  {
   "cell_type": "markdown",
   "metadata": {},
   "source": [
    "Напишем функцию lemmatize(text) для лемматизации комментариев."
   ]
  },
  {
   "cell_type": "code",
   "execution_count": 11,
   "metadata": {},
   "outputs": [
    {
     "name": "stderr",
     "output_type": "stream",
     "text": [
      "[nltk_data] Downloading package wordnet to /home/jovyan/nltk_data...\n",
      "[nltk_data]   Package wordnet is already up-to-date!\n",
      "[nltk_data] Downloading package punkt to /home/jovyan/nltk_data...\n",
      "[nltk_data]   Package punkt is already up-to-date!\n",
      "[nltk_data] Downloading package averaged_perceptron_tagger to\n",
      "[nltk_data]     /home/jovyan/nltk_data...\n",
      "[nltk_data]   Package averaged_perceptron_tagger is already up-to-\n",
      "[nltk_data]       date!\n"
     ]
    }
   ],
   "source": [
    "WNLemmatizer = nltk.stem.WordNetLemmatizer()\n",
    "nltk.download('wordnet')\n",
    "nltk.download('punkt')\n",
    "nltk.download('averaged_perceptron_tagger')\n",
    "#ввожу функцию РОS-тэгирования слов:\n",
    "def get_wordnet_pos(word):\n",
    "    tag = nltk.pos_tag([word])[0][1][0].upper()\n",
    "    tag_dict = {\"J\": wordnet.ADJ,               #прилагательное\n",
    "                \"N\": wordnet.NOUN,              #существительное\n",
    "                \"V\": wordnet.VERB,              #глагол\n",
    "                \"R\": wordnet.ADV                #наречие\n",
    "               }  \n",
    "    return tag_dict.get(tag, wordnet.NOUN)\n",
    "\n",
    "lemmatizer = WordNetLemmatizer()\n",
    "\n",
    "#ввожу функцию леммализации тектов постов:\n",
    "def lemm_text(text):\n",
    "    text = [lemmatizer.lemmatize(w, get_wordnet_pos(w)) for w in nltk.word_tokenize(text)]\n",
    "    return ' '.join(text)"
   ]
  },
  {
   "cell_type": "code",
   "execution_count": 12,
   "metadata": {},
   "outputs": [],
   "source": [
    "data['text'] = data['text'].apply(lemm_text) "
   ]
  },
  {
   "cell_type": "code",
   "execution_count": 13,
   "metadata": {},
   "outputs": [
    {
     "data": {
      "text/html": [
       "<div>\n",
       "<style scoped>\n",
       "    .dataframe tbody tr th:only-of-type {\n",
       "        vertical-align: middle;\n",
       "    }\n",
       "\n",
       "    .dataframe tbody tr th {\n",
       "        vertical-align: top;\n",
       "    }\n",
       "\n",
       "    .dataframe thead th {\n",
       "        text-align: right;\n",
       "    }\n",
       "</style>\n",
       "<table border=\"1\" class=\"dataframe\">\n",
       "  <thead>\n",
       "    <tr style=\"text-align: right;\">\n",
       "      <th></th>\n",
       "      <th>text</th>\n",
       "      <th>toxic</th>\n",
       "    </tr>\n",
       "  </thead>\n",
       "  <tbody>\n",
       "    <tr>\n",
       "      <th>0</th>\n",
       "      <td>explanation why the edits make under my userna...</td>\n",
       "      <td>0</td>\n",
       "    </tr>\n",
       "    <tr>\n",
       "      <th>1</th>\n",
       "      <td>d'aww he match this background colour i 'm see...</td>\n",
       "      <td>0</td>\n",
       "    </tr>\n",
       "    <tr>\n",
       "      <th>2</th>\n",
       "      <td>hey man i 'm really not try to edit war it 's ...</td>\n",
       "      <td>0</td>\n",
       "    </tr>\n",
       "    <tr>\n",
       "      <th>3</th>\n",
       "      <td>more i ca n't make any real suggestion on impr...</td>\n",
       "      <td>0</td>\n",
       "    </tr>\n",
       "    <tr>\n",
       "      <th>4</th>\n",
       "      <td>you sir be my hero any chance you remember wha...</td>\n",
       "      <td>0</td>\n",
       "    </tr>\n",
       "  </tbody>\n",
       "</table>\n",
       "</div>"
      ],
      "text/plain": [
       "                                                text  toxic\n",
       "0  explanation why the edits make under my userna...      0\n",
       "1  d'aww he match this background colour i 'm see...      0\n",
       "2  hey man i 'm really not try to edit war it 's ...      0\n",
       "3  more i ca n't make any real suggestion on impr...      0\n",
       "4  you sir be my hero any chance you remember wha...      0"
      ]
     },
     "execution_count": 13,
     "metadata": {},
     "output_type": "execute_result"
    }
   ],
   "source": [
    "data.head(5)"
   ]
  },
  {
   "cell_type": "markdown",
   "metadata": {},
   "source": [
    "На данном шаге мы просмотрели наши данные, очистили их и лемматизировали.\n",
    "\n",
    "Обучим наши модели на подготовленных данных."
   ]
  },
  {
   "cell_type": "markdown",
   "metadata": {},
   "source": [
    "## Обучение"
   ]
  },
  {
   "cell_type": "markdown",
   "metadata": {},
   "source": [
    "Разобьем наши данные на обучающую. валидационную и тестовую выборки в соотношении 75:25"
   ]
  },
  {
   "cell_type": "code",
   "execution_count": 14,
   "metadata": {},
   "outputs": [],
   "source": [
    "target = data['toxic']\n",
    "features = data.drop(['toxic'], axis=1)\n",
    "\n",
    "# выделение тренировочной выборки и тестовой выборок\n",
    "features_train, features_test, target_train, target_test = train_test_split(features,\n",
    "                                                      target,\n",
    "                                                      shuffle = False,\n",
    "                                                      train_size = 0.75,\n",
    "                                                      random_state = RANDOM_STATE)\n"
   ]
  },
  {
   "cell_type": "code",
   "execution_count": 15,
   "metadata": {},
   "outputs": [
    {
     "name": "stdout",
     "output_type": "stream",
     "text": [
      "Доля тренировочных признаков: 0.75\n",
      "Доля тренировочных целей: 0.75\n",
      "Доля тестовых признаков: 0.25\n",
      "Доля тестовых целей: 0.25\n"
     ]
    }
   ],
   "source": [
    "print(f'Доля тренировочных признаков: {features_train.shape[0]/data.shape[0]:.2f}')\n",
    "print(f'Доля тренировочных целей: {target_train.shape[0]/data.shape[0]:.2f}')\n",
    "print(f'Доля тестовых признаков: {features_test.shape[0]/data.shape[0]:.2f}')\n",
    "print(f'Доля тестовых целей: {target_test.shape[0]/data.shape[0]:.2f}')"
   ]
  },
  {
   "cell_type": "code",
   "execution_count": 16,
   "metadata": {
    "scrolled": true
   },
   "outputs": [
    {
     "name": "stdout",
     "output_type": "stream",
     "text": [
      "features_train.shape (119469, 1)\n",
      "target_train.shape (119469,)\n",
      "features_test.shape (39823, 1)\n",
      "target_test.shape (39823,)\n"
     ]
    }
   ],
   "source": [
    "print(\"features_train.shape\", features_train.shape)\n",
    "print(\"target_train.shape\", target_train.shape)\n",
    "print(\"features_test.shape\", features_test.shape)\n",
    "print(\"target_test.shape\", target_test.shape)"
   ]
  },
  {
   "cell_type": "markdown",
   "metadata": {},
   "source": [
    "Создадим признаки с учетом стоп-слов и выделим целевые признаки."
   ]
  },
  {
   "cell_type": "code",
   "execution_count": 17,
   "metadata": {},
   "outputs": [
    {
     "name": "stderr",
     "output_type": "stream",
     "text": [
      "[nltk_data] Downloading package stopwords to /home/jovyan/nltk_data...\n",
      "[nltk_data]   Package stopwords is already up-to-date!\n"
     ]
    }
   ],
   "source": [
    "nltk.download('stopwords')\n",
    "stopwords = set(nltk_stopwords.words('english'))"
   ]
  },
  {
   "cell_type": "code",
   "execution_count": 18,
   "metadata": {},
   "outputs": [
    {
     "name": "stdout",
     "output_type": "stream",
     "text": [
      "features_tf_idf_train.shape - (119469, 127763)\n",
      "features_tf_idf_test.shape - (39823, 127763)\n",
      "CPU times: user 8.21 s, sys: 99.6 ms, total: 8.31 s\n",
      "Wall time: 8.33 s\n"
     ]
    }
   ],
   "source": [
    "%%time\n",
    "count_tf_idf = TfidfVectorizer(stop_words=stopwords)\n",
    "\n",
    "features_tf_idf_train = count_tf_idf.fit_transform(features_train['text'])\n",
    "features_tf_idf_test = count_tf_idf.transform(features_test['text'])\n",
    "print('features_tf_idf_train.shape -', features_tf_idf_train.shape)\n",
    "print('features_tf_idf_test.shape -', features_tf_idf_test.shape)"
   ]
  },
  {
   "cell_type": "markdown",
   "metadata": {},
   "source": [
    "### Модель логистической регрессии"
   ]
  },
  {
   "cell_type": "markdown",
   "metadata": {},
   "source": [
    "Создаем pipeline."
   ]
  },
  {
   "cell_type": "code",
   "execution_count": 19,
   "metadata": {},
   "outputs": [],
   "source": [
    "pipe_lr = make_pipeline(\n",
    "        LogisticRegression(\n",
    "        class_weight='balanced',\n",
    "        random_state=RANDOM_STATE,\n",
    "        n_jobs=-1\n",
    "    )\n",
    ")"
   ]
  },
  {
   "cell_type": "markdown",
   "metadata": {},
   "source": [
    "Зададим сетку параметров и создадим estimator."
   ]
  },
  {
   "cell_type": "code",
   "execution_count": 20,
   "metadata": {},
   "outputs": [],
   "source": [
    "scoring = {'F1': 'f1'}\n",
    "\n",
    "param_grid = {\n",
    "    'logisticregression__solver':['newton-cg', 'lbfgs', 'liblinear', 'sag', 'saga'],\n",
    "    'logisticregression__C':[.001, .01],\n",
    "    'logisticregression__max_iter':[500, 1000]\n",
    "}\n",
    "\n",
    "gs_lr = GridSearchCV(\n",
    "    pipe_lr,\n",
    "    param_grid,\n",
    "    scoring=scoring,    refit = 'F1',\n",
    "    cv=5,      \n",
    "    n_jobs=-1,\n",
    "    verbose=1\n",
    ")"
   ]
  },
  {
   "cell_type": "markdown",
   "metadata": {},
   "source": [
    "Проведём обучение с кросс-валидацией выбранного оценщика."
   ]
  },
  {
   "cell_type": "code",
   "execution_count": 21,
   "metadata": {},
   "outputs": [
    {
     "name": "stdout",
     "output_type": "stream",
     "text": [
      "Fitting 5 folds for each of 20 candidates, totalling 100 fits\n",
      "CPU times: user 4min 39s, sys: 2min 37s, total: 7min 16s\n",
      "Wall time: 7min 16s\n"
     ]
    }
   ],
   "source": [
    "%time gs_lr.fit(features_tf_idf_train, target_train)\n",
    "None"
   ]
  },
  {
   "cell_type": "code",
   "execution_count": 22,
   "metadata": {},
   "outputs": [
    {
     "name": "stdout",
     "output_type": "stream",
     "text": [
      "{'logisticregression__C': 0.001, 'logisticregression__max_iter': 500, 'logisticregression__solver': 'liblinear'}\n",
      "Pipeline(steps=[('logisticregression',\n",
      "                 LogisticRegression(C=0.001, class_weight='balanced',\n",
      "                                    max_iter=500, n_jobs=-1, random_state=42,\n",
      "                                    solver='liblinear'))])\n",
      "LinearRegression F1 score - 0.6921506688928681\n"
     ]
    }
   ],
   "source": [
    "best_params = gs_lr.best_params_\n",
    "best_estimator = gs_lr.best_estimator_\n",
    "best_score = gs_lr.best_score_\n",
    "print(best_params)\n",
    "print(best_estimator) \n",
    "print('LinearRegression F1 score -', best_score)  "
   ]
  },
  {
   "cell_type": "markdown",
   "metadata": {},
   "source": [
    "Значение метрики f1 составило 0,752."
   ]
  },
  {
   "cell_type": "markdown",
   "metadata": {},
   "source": [
    "### Модель случайного леса"
   ]
  },
  {
   "cell_type": "markdown",
   "metadata": {},
   "source": [
    "Создадим pipeline для классификатора RandomForestClassifier()."
   ]
  },
  {
   "cell_type": "code",
   "execution_count": 23,
   "metadata": {},
   "outputs": [],
   "source": [
    "pipe_rf = make_pipeline(\n",
    "        RandomForestClassifier(\n",
    "        random_state=RANDOM_STATE,\n",
    "        n_jobs=-1,\n",
    "        class_weight='balanced',\n",
    "        verbose=0\n",
    "    )\n",
    ")"
   ]
  },
  {
   "cell_type": "markdown",
   "metadata": {},
   "source": [
    "Зададим сетку параметров и создадим estimator."
   ]
  },
  {
   "cell_type": "code",
   "execution_count": 24,
   "metadata": {},
   "outputs": [],
   "source": [
    "param_grid = {\n",
    "    'randomforestclassifier__n_estimators':np.arange(100, 151, 50),\n",
    "    'randomforestclassifier__max_depth':np.arange(1, 10, 2),\n",
    "}\n",
    "\n",
    "gs_rf = GridSearchCV(\n",
    "    pipe_rf,\n",
    "    param_grid,\n",
    "    scoring=scoring,\n",
    "    refit = 'F1',\n",
    "    return_train_score=True,\n",
    "    n_jobs=-1,\n",
    "    verbose=1\n",
    ")"
   ]
  },
  {
   "cell_type": "markdown",
   "metadata": {},
   "source": [
    "Проведём обучение с кросс-валидацией выбранного оценщика."
   ]
  },
  {
   "cell_type": "code",
   "execution_count": 25,
   "metadata": {},
   "outputs": [
    {
     "name": "stdout",
     "output_type": "stream",
     "text": [
      "Fitting 5 folds for each of 10 candidates, totalling 50 fits\n",
      "CPU times: user 15min 32s, sys: 2.67 s, total: 15min 34s\n",
      "Wall time: 15min 36s\n"
     ]
    }
   ],
   "source": [
    "%time gs_rf.fit(features_tf_idf_train, target_train)\n",
    "None"
   ]
  },
  {
   "cell_type": "code",
   "execution_count": 26,
   "metadata": {},
   "outputs": [
    {
     "name": "stdout",
     "output_type": "stream",
     "text": [
      "{'randomforestclassifier__max_depth': 9, 'randomforestclassifier__n_estimators': 150}\n",
      "Pipeline(steps=[('randomforestclassifier',\n",
      "                 RandomForestClassifier(class_weight='balanced', max_depth=9,\n",
      "                                        n_estimators=150, n_jobs=-1,\n",
      "                                        random_state=42))])\n",
      "Random forest F1 score - 0.35297859372826373\n"
     ]
    }
   ],
   "source": [
    "best_params = gs_rf.best_params_\n",
    "best_estimator = gs_rf.best_estimator_\n",
    "best_score = gs_rf.best_score_\n",
    "print(best_params)\n",
    "print(best_estimator) \n",
    "print('Random forest F1 score -', best_score)  "
   ]
  },
  {
   "cell_type": "markdown",
   "metadata": {},
   "source": [
    "Значение метрики f1 составило 0,362."
   ]
  },
  {
   "cell_type": "markdown",
   "metadata": {},
   "source": [
    "### Модель градиентного бустинга LightGBM"
   ]
  },
  {
   "cell_type": "markdown",
   "metadata": {},
   "source": [
    "Создадим pipeline для классификатора LightGBM."
   ]
  },
  {
   "cell_type": "code",
   "execution_count": 27,
   "metadata": {},
   "outputs": [],
   "source": [
    "pipe_gbm = make_pipeline(\n",
    "        lgb.LGBMClassifier(\n",
    "        objective='binary',\n",
    "        metric='f1',\n",
    "        n_jobs=-1,\n",
    "        verbosity=-1,\n",
    "        random_state=RANDOM_STATE\n",
    "    )\n",
    ")"
   ]
  },
  {
   "cell_type": "markdown",
   "metadata": {},
   "source": [
    "Зададим сетку параметров и создадим estimator."
   ]
  },
  {
   "cell_type": "code",
   "execution_count": 28,
   "metadata": {},
   "outputs": [],
   "source": [
    "param_grid = {\n",
    "    'lgbmclassifier__max_depth':[-1, 10, 20],\n",
    "    'lgbmclassifier__num_leaves':[10, 31],\n",
    "    'lgbmclassifier__learning_rate':[.1, .5]\n",
    "}\n",
    "\n",
    "gs_gbm = GridSearchCV(\n",
    "    pipe_gbm,\n",
    "    param_grid,\n",
    "    scoring=scoring,\n",
    "    refit = 'F1',\n",
    "    return_train_score=True,\n",
    "    n_jobs=-1,\n",
    "    verbose=1\n",
    ")"
   ]
  },
  {
   "cell_type": "markdown",
   "metadata": {},
   "source": [
    "Проведём обучение с кросс-валидацией выбранного оценщика."
   ]
  },
  {
   "cell_type": "code",
   "execution_count": null,
   "metadata": {},
   "outputs": [
    {
     "name": "stdout",
     "output_type": "stream",
     "text": [
      "Fitting 5 folds for each of 12 candidates, totalling 60 fits\n"
     ]
    }
   ],
   "source": [
    "%time gs_gbm.fit(features_tf_idf_train, target_train)\n",
    "None"
   ]
  },
  {
   "cell_type": "code",
   "execution_count": null,
   "metadata": {},
   "outputs": [],
   "source": [
    "best_params = gs_gbm.best_params_\n",
    "best_estimator = gs_gbm.best_estimator_\n",
    "best_score = gs_gbm.best_score_\n",
    "print(best_params)\n",
    "print(best_estimator) \n",
    "print('LightGBM F1 score -', best_score)  "
   ]
  },
  {
   "cell_type": "markdown",
   "metadata": {},
   "source": [
    "Значение метрики f1 составило 0,763."
   ]
  },
  {
   "cell_type": "markdown",
   "metadata": {},
   "source": [
    "### Модель CatBoost"
   ]
  },
  {
   "cell_type": "code",
   "execution_count": null,
   "metadata": {},
   "outputs": [],
   "source": [
    "%%time\n",
    "model_cat = CatBoostClassifier(\n",
    "            n_estimators=1000, \n",
    "            class_weights=[1, 9],\n",
    "            max_depth=4, \n",
    "            verbose=100)\n",
    "model_cat.fit(features_tf_idf_train, target_train)"
   ]
  },
  {
   "cell_type": "markdown",
   "metadata": {},
   "source": [
    "Протестируем CatBoost сразу на тестовых данных."
   ]
  },
  {
   "cell_type": "code",
   "execution_count": null,
   "metadata": {},
   "outputs": [],
   "source": [
    "predict = model_cat.predict(features_tf_idf_test)\n",
    "f1_cat = f1_score(target_test, predict)\n",
    "print('CatBoostRegressor F1 score -', f1_cat)"
   ]
  },
  {
   "cell_type": "markdown",
   "metadata": {},
   "source": [
    "Значение метрики f1 составило 0,749."
   ]
  },
  {
   "cell_type": "markdown",
   "metadata": {},
   "source": [
    "Хотя логистическая регрессия обучается гораздо быстрее, по показателю f1, как наилучшую модель выбираем LightGBM."
   ]
  },
  {
   "cell_type": "markdown",
   "metadata": {},
   "source": [
    "### Проверим лучшую модель в работе"
   ]
  },
  {
   "cell_type": "code",
   "execution_count": null,
   "metadata": {},
   "outputs": [],
   "source": [
    "prediction_gbm = gs_gbm.predict(features_tf_idf_test)\n",
    "\n",
    "cr_gbm = classification_report(\n",
    "    target_test, prediction_gbm,\n",
    "    output_dict=True, zero_division=0\n",
    ")"
   ]
  },
  {
   "cell_type": "code",
   "execution_count": null,
   "metadata": {},
   "outputs": [],
   "source": [
    "f1_gbm = f1_score(target_test, prediction_gbm)\n",
    "print('CatBoostRegressor F1 score -', f1_gbm)"
   ]
  },
  {
   "cell_type": "code",
   "execution_count": null,
   "metadata": {
    "scrolled": true
   },
   "outputs": [],
   "source": [
    "cm = confusion_matrix(target_test, prediction_gbm, labels=gs_gbm.classes_)\n",
    "\n",
    "fig, (ax1, ax2) = plt.subplots(1, 2, figsize=(15, 5))\n",
    "cmd = ConfusionMatrixDisplay(cm, display_labels=gs_gbm.classes_)\n",
    "cmd.plot(ax=ax1)\n",
    "ax1.set_title('Матрица ошибок')\n",
    "prec, recall, _ = precision_recall_curve(target_test, prediction_gbm)\n",
    "PrecisionRecallDisplay(prec, recall).plot(ax=ax2)\n",
    "ax2.set_title('График полнота-точность')\n",
    "plt.show()"
   ]
  },
  {
   "cell_type": "markdown",
   "metadata": {},
   "source": [
    "Модель градиентного бустинга LightGBM показала F1 score на тестовых данных равный 0,76 при небольшом количестве ложных срабатываний."
   ]
  },
  {
   "cell_type": "markdown",
   "metadata": {},
   "source": [
    "## Выводы"
   ]
  },
  {
   "cell_type": "markdown",
   "metadata": {},
   "source": [
    "В ходе работы над проектом был обработан датасет с комментариями на английском языке, где нужно было определить, негативный отзыв или нет.\n",
    "\n",
    "В отзывах присутствовал дисбаланс классов: соотношение положительных комментариев к отрицательным было равно 1:9 Подготовленны данные обучения на моделях. Для приведения текстов к векторному виду были пременены методы:\n",
    "\n",
    "очистка и лемматизация\n",
    "\n",
    "TF - IDF векторизация\n",
    "\n",
    "Выбран способ баланса классов и поделены данные на обучающую и тестовою выборку. Обучены модели и выбраны лучшие из них на валидационной выборке. Показаны параметры качества моделей, а также графики для наглядности.\n",
    "\n",
    " Так как TF-IDF превращают текст в численные значения, лучшими моделями стали LogisticRegression и LightGBM. LightGBM может показать себя очень хорошо при долгом обучении на данных. В ходе тестов выяснилось, что данный классификатор тратит очень много времени на обучение. приэтом результат не намного превысил модель логистической регрессии.\n",
    "\n",
    "Хотя логистическая регрессия обрабатывает информацию гораздо быстрее, по показателю f1, как наилучшую модель отбрали LightGBM.\n",
    "\n",
    "На тестовой выборке модель LightGBM показала - 0.76, что подходит под требования задачи.\n",
    "\n",
    "Данная модель может быть использована для классификации комментариев, хотя нужно учесть, что часть негативных комментариев она будет пропускать.\n",
    "\n",
    "Для улучшения решения можно сделать следующее:\n",
    "\n",
    "Подобрать гиперпараметры модели для улучшения результата.\n",
    "\n",
    "Провести векторизацию методом BERT. Это потребует серьёзных вычислительных мощностей."
   ]
  }
 ],
 "metadata": {
  "ExecuteTimeLog": [
   {
    "duration": 4113,
    "start_time": "2024-06-21T06:02:02.226Z"
   },
   {
    "duration": 338,
    "start_time": "2024-06-21T06:02:32.348Z"
   },
   {
    "duration": 47,
    "start_time": "2024-06-21T06:09:22.463Z"
   },
   {
    "duration": 2343,
    "start_time": "2024-06-21T06:10:23.209Z"
   },
   {
    "duration": 31,
    "start_time": "2024-06-21T06:11:17.293Z"
   },
   {
    "duration": 13,
    "start_time": "2024-06-21T06:11:30.003Z"
   },
   {
    "duration": 16,
    "start_time": "2024-06-21T06:12:33.756Z"
   },
   {
    "duration": 26,
    "start_time": "2024-06-21T06:13:18.993Z"
   },
   {
    "duration": 211,
    "start_time": "2024-06-21T06:13:54.171Z"
   },
   {
    "duration": 474,
    "start_time": "2024-06-21T06:14:02.358Z"
   },
   {
    "duration": 4,
    "start_time": "2024-06-21T06:17:39.676Z"
   },
   {
    "duration": 7524,
    "start_time": "2024-06-21T06:31:18.008Z"
   },
   {
    "duration": 2357,
    "start_time": "2024-06-21T06:53:34.918Z"
   },
   {
    "duration": 3,
    "start_time": "2024-06-21T07:00:11.419Z"
   },
   {
    "duration": 327,
    "start_time": "2024-06-21T07:00:39.653Z"
   },
   {
    "duration": 6,
    "start_time": "2024-06-21T07:01:34.252Z"
   },
   {
    "duration": 875,
    "start_time": "2024-06-21T07:01:35.197Z"
   },
   {
    "duration": 30,
    "start_time": "2024-06-21T07:01:36.074Z"
   },
   {
    "duration": 7,
    "start_time": "2024-06-21T07:01:36.832Z"
   },
   {
    "duration": 15,
    "start_time": "2024-06-21T07:01:37.134Z"
   },
   {
    "duration": 26,
    "start_time": "2024-06-21T07:01:37.377Z"
   },
   {
    "duration": 214,
    "start_time": "2024-06-21T07:01:37.628Z"
   },
   {
    "duration": 99,
    "start_time": "2024-06-21T07:01:37.892Z"
   },
   {
    "duration": 5,
    "start_time": "2024-06-21T07:01:38.908Z"
   },
   {
    "duration": 7309,
    "start_time": "2024-06-21T07:01:39.684Z"
   },
   {
    "duration": 13,
    "start_time": "2024-06-21T07:01:57.837Z"
   },
   {
    "duration": 42,
    "start_time": "2024-06-21T07:01:58.817Z"
   },
   {
    "duration": 3891,
    "start_time": "2024-06-21T07:02:11.021Z"
   },
   {
    "duration": 2305,
    "start_time": "2024-06-21T07:02:14.914Z"
   },
   {
    "duration": 32,
    "start_time": "2024-06-21T07:02:25.206Z"
   },
   {
    "duration": 12,
    "start_time": "2024-06-21T07:02:25.750Z"
   },
   {
    "duration": 18,
    "start_time": "2024-06-21T07:02:26.214Z"
   },
   {
    "duration": 25,
    "start_time": "2024-06-21T07:02:26.730Z"
   },
   {
    "duration": 210,
    "start_time": "2024-06-21T07:02:27.795Z"
   },
   {
    "duration": 295,
    "start_time": "2024-06-21T07:02:28.813Z"
   },
   {
    "duration": 4,
    "start_time": "2024-06-21T07:02:31.150Z"
   },
   {
    "duration": 7358,
    "start_time": "2024-06-21T07:02:33.417Z"
   },
   {
    "duration": 2094,
    "start_time": "2024-06-21T07:02:43.881Z"
   },
   {
    "duration": 3,
    "start_time": "2024-06-21T07:02:47.552Z"
   },
   {
    "duration": 64476,
    "start_time": "2024-06-21T07:02:48.824Z"
   },
   {
    "duration": 275,
    "start_time": "2024-06-21T07:15:09.771Z"
   },
   {
    "duration": 25,
    "start_time": "2024-06-21T07:15:33.795Z"
   },
   {
    "duration": 16,
    "start_time": "2024-06-21T07:15:57.837Z"
   },
   {
    "duration": 10,
    "start_time": "2024-06-21T07:16:01.712Z"
   },
   {
    "duration": 223,
    "start_time": "2024-06-21T07:28:29.405Z"
   },
   {
    "duration": 13,
    "start_time": "2024-06-21T07:41:21.333Z"
   },
   {
    "duration": 68,
    "start_time": "2024-06-21T07:41:22.428Z"
   },
   {
    "duration": 8,
    "start_time": "2024-06-21T07:43:33.242Z"
   },
   {
    "duration": 15,
    "start_time": "2024-06-21T07:45:47.435Z"
   },
   {
    "duration": 12,
    "start_time": "2024-06-21T07:46:35.008Z"
   },
   {
    "duration": 18,
    "start_time": "2024-06-21T07:46:41.775Z"
   },
   {
    "duration": 3,
    "start_time": "2024-06-21T07:47:02.530Z"
   },
   {
    "duration": 4,
    "start_time": "2024-06-21T07:48:43.375Z"
   },
   {
    "duration": 89,
    "start_time": "2024-06-21T07:50:46.830Z"
   },
   {
    "duration": 16,
    "start_time": "2024-06-21T07:52:51.078Z"
   },
   {
    "duration": 16,
    "start_time": "2024-06-21T07:52:59.893Z"
   },
   {
    "duration": 4,
    "start_time": "2024-06-21T07:57:43.375Z"
   },
   {
    "duration": 88,
    "start_time": "2024-06-21T07:57:44.432Z"
   },
   {
    "duration": 4,
    "start_time": "2024-06-21T07:58:08.665Z"
   },
   {
    "duration": 81,
    "start_time": "2024-06-21T07:58:10.503Z"
   },
   {
    "duration": 62,
    "start_time": "2024-06-21T07:58:37.779Z"
   },
   {
    "duration": 4,
    "start_time": "2024-06-21T07:58:50.047Z"
   },
   {
    "duration": 74,
    "start_time": "2024-06-21T07:58:51.364Z"
   },
   {
    "duration": 3,
    "start_time": "2024-06-21T07:59:28.296Z"
   },
   {
    "duration": 89,
    "start_time": "2024-06-21T07:59:29.546Z"
   },
   {
    "duration": 3,
    "start_time": "2024-06-21T07:59:44.270Z"
   },
   {
    "duration": 80,
    "start_time": "2024-06-21T07:59:45.196Z"
   },
   {
    "duration": 4,
    "start_time": "2024-06-21T08:01:00.323Z"
   },
   {
    "duration": 96,
    "start_time": "2024-06-21T08:01:01.184Z"
   },
   {
    "duration": 4,
    "start_time": "2024-06-21T10:49:49.548Z"
   },
   {
    "duration": 43,
    "start_time": "2024-06-21T10:50:06.260Z"
   },
   {
    "duration": 7,
    "start_time": "2024-06-21T10:51:56.249Z"
   },
   {
    "duration": 923,
    "start_time": "2024-06-21T10:51:56.642Z"
   },
   {
    "duration": 29,
    "start_time": "2024-06-21T10:51:58.348Z"
   },
   {
    "duration": 9,
    "start_time": "2024-06-21T10:51:58.846Z"
   },
   {
    "duration": 13,
    "start_time": "2024-06-21T10:51:59.369Z"
   },
   {
    "duration": 25,
    "start_time": "2024-06-21T10:51:59.784Z"
   },
   {
    "duration": 243,
    "start_time": "2024-06-21T10:52:00.357Z"
   },
   {
    "duration": 102,
    "start_time": "2024-06-21T10:52:01.118Z"
   },
   {
    "duration": 5,
    "start_time": "2024-06-21T10:52:03.524Z"
   },
   {
    "duration": 7555,
    "start_time": "2024-06-21T10:52:04.927Z"
   },
   {
    "duration": 2,
    "start_time": "2024-06-21T10:52:31.507Z"
   },
   {
    "duration": 45,
    "start_time": "2024-06-21T10:52:55.177Z"
   },
   {
    "duration": 4068,
    "start_time": "2024-06-21T10:53:00.171Z"
   },
   {
    "duration": 2275,
    "start_time": "2024-06-21T10:53:04.241Z"
   },
   {
    "duration": 30,
    "start_time": "2024-06-21T10:53:06.517Z"
   },
   {
    "duration": 16,
    "start_time": "2024-06-21T10:53:06.549Z"
   },
   {
    "duration": 16,
    "start_time": "2024-06-21T10:53:06.567Z"
   },
   {
    "duration": 25,
    "start_time": "2024-06-21T10:53:06.585Z"
   },
   {
    "duration": 226,
    "start_time": "2024-06-21T10:53:06.611Z"
   },
   {
    "duration": 291,
    "start_time": "2024-06-21T10:53:06.839Z"
   },
   {
    "duration": 4,
    "start_time": "2024-06-21T10:53:07.132Z"
   },
   {
    "duration": 7464,
    "start_time": "2024-06-21T10:53:07.137Z"
   },
   {
    "duration": 3,
    "start_time": "2024-06-21T10:53:14.603Z"
   },
   {
    "duration": 66121,
    "start_time": "2024-06-21T10:53:14.608Z"
   },
   {
    "duration": 2354,
    "start_time": "2024-06-21T10:54:20.731Z"
   },
   {
    "duration": 289,
    "start_time": "2024-06-21T10:55:26.462Z"
   },
   {
    "duration": 26,
    "start_time": "2024-06-21T10:56:33.506Z"
   },
   {
    "duration": 10,
    "start_time": "2024-06-21T10:57:08.795Z"
   },
   {
    "duration": 141,
    "start_time": "2024-06-21T10:57:11.008Z"
   },
   {
    "duration": 3,
    "start_time": "2024-06-21T10:57:14.194Z"
   },
   {
    "duration": 3,
    "start_time": "2024-06-21T10:57:15.249Z"
   },
   {
    "duration": 70,
    "start_time": "2024-06-21T10:57:18.264Z"
   },
   {
    "duration": 25,
    "start_time": "2024-06-21T10:58:05.385Z"
   },
   {
    "duration": 3,
    "start_time": "2024-06-21T11:03:11.531Z"
   },
   {
    "duration": 18,
    "start_time": "2024-06-21T11:03:27.745Z"
   },
   {
    "duration": 94,
    "start_time": "2024-06-21T11:09:28.910Z"
   },
   {
    "duration": 43,
    "start_time": "2024-06-21T11:10:27.983Z"
   },
   {
    "duration": 89,
    "start_time": "2024-06-21T11:10:46.224Z"
   },
   {
    "duration": 7,
    "start_time": "2024-06-21T11:10:57.188Z"
   },
   {
    "duration": 887,
    "start_time": "2024-06-21T11:10:57.725Z"
   },
   {
    "duration": 33,
    "start_time": "2024-06-21T11:10:59.725Z"
   },
   {
    "duration": 7,
    "start_time": "2024-06-21T11:11:00.044Z"
   },
   {
    "duration": 14,
    "start_time": "2024-06-21T11:11:00.308Z"
   },
   {
    "duration": 26,
    "start_time": "2024-06-21T11:11:00.658Z"
   },
   {
    "duration": 197,
    "start_time": "2024-06-21T11:11:00.963Z"
   },
   {
    "duration": 107,
    "start_time": "2024-06-21T11:11:01.539Z"
   },
   {
    "duration": 3,
    "start_time": "2024-06-21T11:11:03.217Z"
   },
   {
    "duration": 17,
    "start_time": "2024-06-21T11:11:05.237Z"
   },
   {
    "duration": 7481,
    "start_time": "2024-06-21T11:11:08.222Z"
   },
   {
    "duration": 4,
    "start_time": "2024-06-21T11:11:17.514Z"
   },
   {
    "duration": 46,
    "start_time": "2024-06-21T11:13:27.912Z"
   },
   {
    "duration": 8,
    "start_time": "2024-06-21T11:13:51.979Z"
   },
   {
    "duration": 9,
    "start_time": "2024-06-21T11:13:58.513Z"
   },
   {
    "duration": 4062,
    "start_time": "2024-06-21T11:14:04.134Z"
   },
   {
    "duration": 2301,
    "start_time": "2024-06-21T11:14:08.197Z"
   },
   {
    "duration": 30,
    "start_time": "2024-06-21T11:14:18.629Z"
   },
   {
    "duration": 12,
    "start_time": "2024-06-21T11:14:19.017Z"
   },
   {
    "duration": 16,
    "start_time": "2024-06-21T11:14:19.435Z"
   },
   {
    "duration": 31,
    "start_time": "2024-06-21T11:14:19.823Z"
   },
   {
    "duration": 208,
    "start_time": "2024-06-21T11:14:20.189Z"
   },
   {
    "duration": 279,
    "start_time": "2024-06-21T11:14:20.556Z"
   },
   {
    "duration": 281,
    "start_time": "2024-06-21T11:14:30.508Z"
   },
   {
    "duration": 2,
    "start_time": "2024-06-21T11:15:08.455Z"
   },
   {
    "duration": 296,
    "start_time": "2024-06-21T11:15:08.979Z"
   },
   {
    "duration": 13,
    "start_time": "2024-06-21T11:15:55.388Z"
   },
   {
    "duration": 212,
    "start_time": "2024-06-21T11:15:56.233Z"
   },
   {
    "duration": 4,
    "start_time": "2024-06-21T11:16:44.768Z"
   },
   {
    "duration": 7511,
    "start_time": "2024-06-21T11:16:48.692Z"
   },
   {
    "duration": 4,
    "start_time": "2024-06-21T11:16:58.667Z"
   },
   {
    "duration": 64931,
    "start_time": "2024-06-21T11:17:01.155Z"
   },
   {
    "duration": 1107,
    "start_time": "2024-06-21T11:19:12.692Z"
   },
   {
    "duration": 9,
    "start_time": "2024-06-21T11:20:04.914Z"
   },
   {
    "duration": 4,
    "start_time": "2024-06-21T11:20:09.419Z"
   },
   {
    "duration": 4,
    "start_time": "2024-06-21T11:20:10.650Z"
   },
   {
    "duration": 71,
    "start_time": "2024-06-21T11:20:11.801Z"
   },
   {
    "duration": 4,
    "start_time": "2024-06-21T11:21:07.404Z"
   },
   {
    "duration": 4,
    "start_time": "2024-06-21T11:34:38.541Z"
   },
   {
    "duration": 7,
    "start_time": "2024-06-21T11:35:52.046Z"
   },
   {
    "duration": 24,
    "start_time": "2024-06-21T11:36:48.065Z"
   },
   {
    "duration": 3,
    "start_time": "2024-06-21T11:36:49.499Z"
   },
   {
    "duration": 5,
    "start_time": "2024-06-21T11:38:00.428Z"
   },
   {
    "duration": 13,
    "start_time": "2024-06-21T11:38:09.118Z"
   },
   {
    "duration": 3,
    "start_time": "2024-06-21T11:38:10.949Z"
   },
   {
    "duration": 4,
    "start_time": "2024-06-21T11:38:11.744Z"
   },
   {
    "duration": 92,
    "start_time": "2024-06-21T11:38:13.046Z"
   },
   {
    "duration": 3,
    "start_time": "2024-06-21T11:40:14.928Z"
   },
   {
    "duration": 22,
    "start_time": "2024-06-21T11:40:15.458Z"
   },
   {
    "duration": 18997,
    "start_time": "2024-06-21T11:40:23.234Z"
   },
   {
    "duration": 5950,
    "start_time": "2024-06-21T11:40:42.232Z"
   },
   {
    "duration": 3,
    "start_time": "2024-06-21T11:40:48.183Z"
   },
   {
    "duration": 64412,
    "start_time": "2024-06-21T11:40:48.188Z"
   },
   {
    "duration": 2,
    "start_time": "2024-06-21T11:41:52.602Z"
   },
   {
    "duration": 18706,
    "start_time": "2024-06-21T11:42:29.795Z"
   },
   {
    "duration": 6,
    "start_time": "2024-06-21T11:43:07.304Z"
   },
   {
    "duration": 37,
    "start_time": "2024-06-21T11:43:07.800Z"
   },
   {
    "duration": 5,
    "start_time": "2024-06-21T11:43:08.776Z"
   },
   {
    "duration": 11,
    "start_time": "2024-06-21T11:43:10.650Z"
   },
   {
    "duration": 3,
    "start_time": "2024-06-21T11:43:12.993Z"
   },
   {
    "duration": 3,
    "start_time": "2024-06-21T11:43:13.595Z"
   },
   {
    "duration": 71,
    "start_time": "2024-06-21T11:43:14.639Z"
   },
   {
    "duration": 17,
    "start_time": "2024-06-21T11:45:24.726Z"
   },
   {
    "duration": 4,
    "start_time": "2024-06-21T11:45:46.213Z"
   },
   {
    "duration": 4,
    "start_time": "2024-06-21T11:46:13.798Z"
   },
   {
    "duration": 98,
    "start_time": "2024-06-21T11:47:16.383Z"
   },
   {
    "duration": 22,
    "start_time": "2024-06-21T11:48:44.396Z"
   },
   {
    "duration": 4,
    "start_time": "2024-06-21T11:48:44.932Z"
   },
   {
    "duration": 5,
    "start_time": "2024-06-21T11:48:46.515Z"
   },
   {
    "duration": 4,
    "start_time": "2024-06-21T11:48:48.043Z"
   },
   {
    "duration": 11565,
    "start_time": "2024-06-21T11:48:48.762Z"
   },
   {
    "duration": 11203,
    "start_time": "2024-06-21T11:57:12.004Z"
   },
   {
    "duration": 3,
    "start_time": "2024-06-21T11:57:45.354Z"
   },
   {
    "duration": 3,
    "start_time": "2024-06-21T11:57:46.079Z"
   },
   {
    "duration": 258,
    "start_time": "2024-06-21T11:57:47.197Z"
   },
   {
    "duration": 77,
    "start_time": "2024-06-21T11:58:39.905Z"
   },
   {
    "duration": 52534,
    "start_time": "2024-06-21T11:58:58.733Z"
   },
   {
    "duration": 20,
    "start_time": "2024-06-21T12:00:51.609Z"
   },
   {
    "duration": 3,
    "start_time": "2024-06-21T12:02:31.105Z"
   },
   {
    "duration": 3,
    "start_time": "2024-06-21T12:02:32.902Z"
   },
   {
    "duration": 290575,
    "start_time": "2024-06-21T12:02:43.392Z"
   },
   {
    "duration": 5,
    "start_time": "2024-06-21T12:07:40.270Z"
   },
   {
    "duration": 5,
    "start_time": "2024-06-21T12:08:36.897Z"
   },
   {
    "duration": 4,
    "start_time": "2024-06-21T12:09:43.718Z"
   },
   {
    "duration": 438758,
    "start_time": "2024-06-21T12:09:45.424Z"
   },
   {
    "duration": 21,
    "start_time": "2024-06-21T12:18:19.064Z"
   },
   {
    "duration": 3,
    "start_time": "2024-06-21T12:19:00.235Z"
   },
   {
    "duration": 3,
    "start_time": "2024-06-21T12:19:56.144Z"
   },
   {
    "duration": 745861,
    "start_time": "2024-06-21T12:20:49.343Z"
   },
   {
    "duration": 8,
    "start_time": "2024-06-21T12:34:15.830Z"
   },
   {
    "duration": 18,
    "start_time": "2024-06-21T12:34:20.866Z"
   },
   {
    "duration": 186,
    "start_time": "2024-06-21T12:36:49.720Z"
   },
   {
    "duration": 21,
    "start_time": "2024-06-21T12:36:57.979Z"
   },
   {
    "duration": 2,
    "start_time": "2024-06-21T12:37:20.157Z"
   },
   {
    "duration": 3,
    "start_time": "2024-06-21T12:37:25.042Z"
   },
   {
    "duration": 5718331,
    "start_time": "2024-06-21T12:37:33.957Z"
   },
   {
    "duration": 8,
    "start_time": "2024-06-21T14:13:57.729Z"
   },
   {
    "duration": 107,
    "start_time": "2024-06-21T14:14:01.208Z"
   },
   {
    "duration": 1223785,
    "start_time": "2024-06-21T14:14:24.296Z"
   },
   {
    "duration": 596,
    "start_time": "2024-06-21T14:34:48.083Z"
   },
   {
    "duration": 28,
    "start_time": "2024-06-21T14:45:01.322Z"
   },
   {
    "duration": 3029,
    "start_time": "2024-06-21T14:46:18.802Z"
   },
   {
    "duration": 15,
    "start_time": "2024-06-21T14:47:26.995Z"
   },
   {
    "duration": 42,
    "start_time": "2024-06-21T14:47:31.338Z"
   },
   {
    "duration": 163,
    "start_time": "2024-06-21T14:48:05.105Z"
   },
   {
    "duration": 300,
    "start_time": "2024-06-21T14:48:14.017Z"
   },
   {
    "duration": 7,
    "start_time": "2024-06-21T14:48:40.268Z"
   },
   {
    "duration": 857,
    "start_time": "2024-06-21T14:48:40.830Z"
   },
   {
    "duration": 29,
    "start_time": "2024-06-21T14:48:42.148Z"
   },
   {
    "duration": 7,
    "start_time": "2024-06-21T14:48:42.704Z"
   },
   {
    "duration": 15,
    "start_time": "2024-06-21T14:48:43.217Z"
   },
   {
    "duration": 25,
    "start_time": "2024-06-21T14:48:43.562Z"
   },
   {
    "duration": 197,
    "start_time": "2024-06-21T14:48:43.949Z"
   },
   {
    "duration": 93,
    "start_time": "2024-06-21T14:48:44.900Z"
   },
   {
    "duration": 4,
    "start_time": "2024-06-21T14:48:46.647Z"
   },
   {
    "duration": 4,
    "start_time": "2024-06-21T14:48:47.448Z"
   },
   {
    "duration": 20320,
    "start_time": "2024-06-21T14:48:48.239Z"
   },
   {
    "duration": 5,
    "start_time": "2024-06-21T14:49:08.560Z"
   },
   {
    "duration": 17120,
    "start_time": "2024-06-21T14:49:08.567Z"
   },
   {
    "duration": 3,
    "start_time": "2024-06-21T14:49:25.689Z"
   },
   {
    "duration": 26,
    "start_time": "2024-06-21T14:49:37.331Z"
   },
   {
    "duration": 5,
    "start_time": "2024-06-21T14:49:38.654Z"
   },
   {
    "duration": 3,
    "start_time": "2024-06-21T14:50:10.916Z"
   },
   {
    "duration": 19589,
    "start_time": "2024-06-21T14:50:11.765Z"
   },
   {
    "duration": 5069,
    "start_time": "2024-06-22T07:40:21.266Z"
   },
   {
    "duration": 2489,
    "start_time": "2024-06-22T07:41:25.403Z"
   },
   {
    "duration": 35,
    "start_time": "2024-06-22T07:41:30.223Z"
   },
   {
    "duration": 14,
    "start_time": "2024-06-22T07:41:30.804Z"
   },
   {
    "duration": 18,
    "start_time": "2024-06-22T07:41:31.297Z"
   },
   {
    "duration": 29,
    "start_time": "2024-06-22T07:41:31.803Z"
   },
   {
    "duration": 276,
    "start_time": "2024-06-22T07:41:32.447Z"
   },
   {
    "duration": 142,
    "start_time": "2024-06-22T07:41:33.683Z"
   },
   {
    "duration": 4,
    "start_time": "2024-06-22T07:41:36.147Z"
   },
   {
    "duration": 21599,
    "start_time": "2024-06-22T07:41:38.253Z"
   },
   {
    "duration": 3,
    "start_time": "2024-06-22T07:41:59.853Z"
   },
   {
    "duration": 5,
    "start_time": "2024-06-22T07:46:45.816Z"
   },
   {
    "duration": 664,
    "start_time": "2024-06-22T07:46:46.825Z"
   },
   {
    "duration": 486,
    "start_time": "2024-06-22T07:58:28.982Z"
   },
   {
    "duration": 473,
    "start_time": "2024-06-22T07:58:31.824Z"
   },
   {
    "duration": 7,
    "start_time": "2024-06-22T07:59:25.103Z"
   },
   {
    "duration": 1003,
    "start_time": "2024-06-22T07:59:27.955Z"
   },
   {
    "duration": 44,
    "start_time": "2024-06-22T07:59:28.959Z"
   },
   {
    "duration": 10,
    "start_time": "2024-06-22T07:59:29.004Z"
   },
   {
    "duration": 33,
    "start_time": "2024-06-22T07:59:29.016Z"
   },
   {
    "duration": 35,
    "start_time": "2024-06-22T07:59:29.172Z"
   },
   {
    "duration": 250,
    "start_time": "2024-06-22T07:59:29.907Z"
   },
   {
    "duration": 116,
    "start_time": "2024-06-22T07:59:30.424Z"
   },
   {
    "duration": 3,
    "start_time": "2024-06-22T07:59:34.406Z"
   },
   {
    "duration": 23542,
    "start_time": "2024-06-22T07:59:38.573Z"
   },
   {
    "duration": 34,
    "start_time": "2024-06-22T08:00:04.359Z"
   },
   {
    "duration": 5078,
    "start_time": "2024-06-22T08:19:53.798Z"
   },
   {
    "duration": 1075,
    "start_time": "2024-06-22T08:19:58.878Z"
   },
   {
    "duration": 51,
    "start_time": "2024-06-22T08:19:59.955Z"
   },
   {
    "duration": 15,
    "start_time": "2024-06-22T08:20:00.009Z"
   },
   {
    "duration": 62,
    "start_time": "2024-06-22T08:20:00.026Z"
   },
   {
    "duration": 51,
    "start_time": "2024-06-22T08:20:00.097Z"
   },
   {
    "duration": 310,
    "start_time": "2024-06-22T08:20:00.252Z"
   },
   {
    "duration": 144,
    "start_time": "2024-06-22T08:20:01.647Z"
   },
   {
    "duration": 4,
    "start_time": "2024-06-22T08:20:03.428Z"
   },
   {
    "duration": 23648,
    "start_time": "2024-06-22T08:20:08.296Z"
   },
   {
    "duration": 44,
    "start_time": "2024-06-22T08:20:37.492Z"
   },
   {
    "duration": 1314398,
    "start_time": "2024-06-22T08:21:01.652Z"
   },
   {
    "duration": 12,
    "start_time": "2024-06-22T08:44:32.581Z"
   },
   {
    "duration": 1319923,
    "start_time": "2024-06-22T08:44:57.093Z"
   },
   {
    "duration": 14,
    "start_time": "2024-06-22T09:07:46.884Z"
   },
   {
    "duration": 4,
    "start_time": "2024-06-22T09:07:55.590Z"
   },
   {
    "duration": 20259,
    "start_time": "2024-06-22T09:07:55.792Z"
   },
   {
    "duration": 4933,
    "start_time": "2024-06-22T09:08:35.204Z"
   },
   {
    "duration": 1023,
    "start_time": "2024-06-22T09:08:40.139Z"
   },
   {
    "duration": 43,
    "start_time": "2024-06-22T09:08:41.164Z"
   },
   {
    "duration": 40,
    "start_time": "2024-06-22T09:08:41.209Z"
   },
   {
    "duration": 19,
    "start_time": "2024-06-22T09:08:41.251Z"
   },
   {
    "duration": 32,
    "start_time": "2024-06-22T09:08:41.272Z"
   },
   {
    "duration": 250,
    "start_time": "2024-06-22T09:08:41.306Z"
   },
   {
    "duration": 155,
    "start_time": "2024-06-22T09:08:41.558Z"
   },
   {
    "duration": 5,
    "start_time": "2024-06-22T09:08:41.715Z"
   },
   {
    "duration": 23728,
    "start_time": "2024-06-22T09:08:41.724Z"
   },
   {
    "duration": 60,
    "start_time": "2024-06-22T09:09:05.453Z"
   },
   {
    "duration": 1335664,
    "start_time": "2024-06-22T09:09:05.515Z"
   },
   {
    "duration": 18,
    "start_time": "2024-06-22T09:31:21.181Z"
   },
   {
    "duration": 31,
    "start_time": "2024-06-22T09:31:21.201Z"
   },
   {
    "duration": 5,
    "start_time": "2024-06-22T09:31:21.234Z"
   },
   {
    "duration": 20,
    "start_time": "2024-06-22T09:31:21.241Z"
   },
   {
    "duration": 33,
    "start_time": "2024-06-22T09:31:21.263Z"
   },
   {
    "duration": 8346,
    "start_time": "2024-06-22T09:31:21.298Z"
   },
   {
    "duration": 3,
    "start_time": "2024-06-22T09:31:29.646Z"
   },
   {
    "duration": 9,
    "start_time": "2024-06-22T09:31:29.651Z"
   },
   {
    "duration": 436947,
    "start_time": "2024-06-22T09:31:29.662Z"
   },
   {
    "duration": 9,
    "start_time": "2024-06-22T09:38:46.611Z"
   },
   {
    "duration": 16,
    "start_time": "2024-06-22T09:38:46.622Z"
   },
   {
    "duration": 6,
    "start_time": "2024-06-22T09:38:46.640Z"
   },
   {
    "duration": 936073,
    "start_time": "2024-06-22T09:38:46.648Z"
   },
   {
    "duration": 7,
    "start_time": "2024-06-22T09:54:22.723Z"
   },
   {
    "duration": 12,
    "start_time": "2024-06-22T09:54:22.732Z"
   },
   {
    "duration": 5,
    "start_time": "2024-06-22T09:54:22.748Z"
   }
  ],
  "kernelspec": {
   "display_name": "Python 3 (ipykernel)",
   "language": "python",
   "name": "python3"
  },
  "language_info": {
   "codemirror_mode": {
    "name": "ipython",
    "version": 3
   },
   "file_extension": ".py",
   "mimetype": "text/x-python",
   "name": "python",
   "nbconvert_exporter": "python",
   "pygments_lexer": "ipython3",
   "version": "3.9.5"
  },
  "toc": {
   "base_numbering": 1,
   "nav_menu": {},
   "number_sections": true,
   "sideBar": true,
   "skip_h1_title": true,
   "title_cell": "Содержание",
   "title_sidebar": "Contents",
   "toc_cell": true,
   "toc_position": {
    "height": "calc(100% - 180px)",
    "left": "10px",
    "top": "150px",
    "width": "302.391px"
   },
   "toc_section_display": true,
   "toc_window_display": false
  }
 },
 "nbformat": 4,
 "nbformat_minor": 2
}
